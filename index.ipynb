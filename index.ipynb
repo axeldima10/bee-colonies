{
 "cells": [
  {
   "cell_type": "markdown",
   "id": "dbd88663-5c95-4041-b002-412fda1fc905",
   "metadata": {},
   "source": [
    "# Bienvenue sur Bee Colony Insights : Explorez les données qui stimulent le changement"
   ]
  },
  {
   "attachments": {},
   "cell_type": "markdown",
   "id": "f5229638-8e04-4ff0-a047-b4f1293ef7d7",
   "metadata": {},
   "source": [
    "<img src=\"newplot.png\" />"
   ]
  },
  {
   "cell_type": "markdown",
   "id": "8ce564cb-144a-4258-998d-147e86dcf4bf",
   "metadata": {},
   "source": [
    "#### Ce projet se concentre sur la visualisation de l'impact de divers facteurs (maladies, pesticides, etc.) sur les colonies d'abeilles aux États-Unis à travers un tableau de bord Web dynamique et interactif."
   ]
  },
  {
   "cell_type": "markdown",
   "id": "e6d59b86-d03d-4caa-9a83-dd81c2c07078",
   "metadata": {},
   "source": [
    "#### L'application présente les données recueillies par le département américain de l'agriculture, permettant aux utilisateurs d'explorer les pourcentages de colonies d'abeilles affectées par les maladies ou les pesticides au fil des ans, grâce à une interface intuitive et des graphiques interactifs."
   ]
  },
  {
   "cell_type": "markdown",
   "id": "79c314f7-ad2b-4a68-9d47-4c252b7b655d",
   "metadata": {},
   "source": [
    "# Compétences clés mises en avant:\n",
    "* Expertise en analyse de données avec Pandas.\n",
    "* Maîtrise des tableaux de bord interactifs avec Plotly et Dash.\n",
    "* Expérience en développement web avec Dash et Bootstrap.\n",
    "* Capacité prouvée à transformer des données brutes en visualisations significatives."
   ]
  },
  {
   "cell_type": "markdown",
   "id": "742c0437-5bd6-443a-bd03-b63fa9d24a01",
   "metadata": {},
   "source": [
    "<img src=\"https://axeldima10.github.io/en/authors/admin/avatar_hu0c35f543337412043539262a7ba94b93_38301_270x270_fill_q75_lanczos_center.jpeg\" />"
   ]
  },
  {
   "cell_type": "markdown",
   "id": "721e6d29-fe24-45a3-9f7c-a741e538078f",
   "metadata": {},
   "source": [
    "[Profile_LinkedIn](https://www.linkedin.com/in/axelganmo/) <br>\n",
    "[Mon_GitHub](https://github.com/axeldima10)"
   ]
  },
  {
   "cell_type": "markdown",
   "id": "750ed4a6-2613-4a67-9abd-36a2d204f1c8",
   "metadata": {},
   "source": [
    "## CODING TIME ... "
   ]
  },
  {
   "cell_type": "markdown",
   "id": "a917f71a-a415-4b63-b925-0051da4dcebf",
   "metadata": {},
   "source": [
    "#### NB: INSTALLER ANNACONDA ET EXECUTEZ LE PROJET EN LANCANT JUPITER NOTEBOOK. CODE SOURCE SUR MON GITHUB"
   ]
  },
  {
   "cell_type": "code",
   "execution_count": 9,
   "id": "2204f89b-44b1-4aaa-a2ca-42f909c83213",
   "metadata": {},
   "outputs": [
    {
     "name": "stdout",
     "output_type": "stream",
     "text": [
      "     State  ANSI Affected by  Year state_code  Pct of Colonies Impacted\n",
      "0  Alabama     1     Disease  2015         AL                      0.05\n",
      "1  Alabama     1     Disease  2016         AL                      1.20\n",
      "2  Alabama     1     Disease  2017         AL                      2.25\n",
      "3  Alabama     1     Disease  2018         AL                      1.30\n",
      "4  Alabama     1     Disease  2019         AL                      1.80\n"
     ]
    },
    {
     "data": {
      "text/html": [
       "\n",
       "        <iframe\n",
       "            width=\"100%\"\n",
       "            height=\"650\"\n",
       "            src=\"http://127.0.0.1:8050/\"\n",
       "            frameborder=\"0\"\n",
       "            allowfullscreen\n",
       "            \n",
       "        ></iframe>\n",
       "        "
      ],
      "text/plain": [
       "<IPython.lib.display.IFrame at 0x13577f3d100>"
      ]
     },
     "metadata": {},
     "output_type": "display_data"
    },
    {
     "name": "stdout",
     "output_type": "stream",
     "text": [
      "2015\n",
      "<class 'int'>\n",
      "2015\n",
      "<class 'int'>\n",
      "2015\n",
      "<class 'int'>\n",
      "2015\n",
      "<class 'int'>\n",
      "2015\n",
      "<class 'int'>\n",
      "2015\n",
      "<class 'int'>\n"
     ]
    }
   ],
   "source": [
    "import pandas as pd\n",
    "import plotly.express as px  # (version 4.7.0 or higher)\n",
    "import plotly.graph_objects as go\n",
    "import dash_bootstrap_components as dbc\n",
    "from dash import Dash, dcc, html, Input, Output  # pip install dash (version 2.0.0 or higher)\n",
    "\n",
    "\n",
    "\n",
    "\n",
    "\n",
    "app = Dash(__name__)\n",
    "\n",
    "# -- Import and clean data (importing csv into pandas)\n",
    "# df = pd.read_csv(\"intro_bees.csv\")\n",
    "df = pd.read_csv(\"intro_bees.csv\")\n",
    "\n",
    "df = df.groupby(['State', 'ANSI', 'Affected by', 'Year', 'state_code'])[['Pct of Colonies Impacted']].mean()\n",
    "df.reset_index(inplace=True)\n",
    "print(df[:5])\n",
    "\n",
    "# ------------------------------------------------------------------------------\n",
    "# App layout\n",
    "\n",
    "body = dbc.Container([\n",
    "       html.Br(),\n",
    "    dbc.Row(\n",
    "        [\n",
    "            dbc.Col(\n",
    "                html.Div(\n",
    "                    [\n",
    "                        html.H3(\"Bienvenue sur Bee Colony Insights : Explorez les données qui stimulent le changement\", \n",
    "                                style={'fontSize': '24px'}),\n",
    "                        html.P(\n",
    "                            \"Ce projet se concentre sur la visualisation de l'impact de divers facteurs (maladies, pesticides, etc.) \"\n",
    "                            \"sur les colonies d'abeilles aux États-Unis à travers un tableau de bord Web dynamique et interactif.\",\n",
    "                            style={'fontSize': '18px', 'lineHeight': '1.6'}\n",
    "                        ),\n",
    "                        html.P(\n",
    "                            \"L'application présente les données recueillies par le département américain de l'agriculture, \"\n",
    "                            \"permettant aux utilisateurs d'explorer les pourcentages de colonies d'abeilles affectées par les \"\n",
    "                            \"maladies ou les pesticides au fil des ans, grâce à une interface intuitive et des graphiques interactifs.\",\n",
    "                            style={'fontSize': '18px', 'lineHeight': '1.6'}\n",
    "                        ),\n",
    "                        html.P(\n",
    "                            \"Les utilisateurs peuvent sélectionner une année spécifique et obtenir des visualisations géographiques \"\n",
    "                            \"montrant les colonies touchées dans chaque État.\",\n",
    "                            style={'fontSize': '18px', 'lineHeight': '1.6'}\n",
    "                        ),\n",
    "                        html.H4(\"Données affichées:\", style={'color': '#000406', 'fontSize': '22px'}),\n",
    "                        html.Ul(\n",
    "                            [\n",
    "                                html.Li(\"Pourcentage de colonies affectées par des facteurs comme les maladies ou les pesticides.\", style={'fontSize': '18px'}),\n",
    "                                html.Li(\"Comparaisons entre différents États au fil des ans.\", style={'fontSize': '18px'}),\n",
    "                                html.Li(\"Visualisations interactives permettant d'approfondir les données.\", style={'fontSize': '18px'}),\n",
    "                            ]\n",
    "                        ),\n",
    "                        html.Br(),\n",
    "                        html.H4(\"Compétences clés mises en avant:\", style={'font-weight': 'bold', 'color': '#1A1A1A', 'fontSize': '22px'}),\n",
    "                        html.Ul(\n",
    "                            [\n",
    "                                html.Li(\"Expertise en analyse de données avec Pandas.\", style={'fontSize': '18px'}),\n",
    "                                html.Li(\"Maîtrise des tableaux de bord interactifs avec Plotly et Dash.\", style={'fontSize': '18px'}),\n",
    "                                html.Li(\"Solide expérience en développement web avec Dash et Bootstrap.\", style={'fontSize': '18px'}),\n",
    "                                html.Li(\"Capacité prouvée à transformer des données brutes en visualisations significatives.\", style={'fontSize': '18px'}),\n",
    "                            ]\n",
    "                        ),\n",
    "                       \n",
    "                    ]\n",
    "                ),\n",
    "                style={'color': 'black', 'backgroundColor': '#f8f9fa', 'padding': '20px', 'borderRadius': '10px'}\n",
    "            )\n",
    "        ], justify=\"center\", align=\"center\"\n",
    "    ),\n",
    "    html.Br(),\n",
    "], style={\"height\": \"130vh\"})\n",
    "app.layout = html.Div([\n",
    "\n",
    "    html.H1(\"Bee Colony Insights : Tableau de bord interactif des données\", style={'text-align': 'center'}),\n",
    "    html.Div([body],style={'background-image': 'url(\"bg.jpg\")'}),\n",
    "\n",
    "    dcc.Dropdown(id=\"slct_year\",\n",
    "                 options=[\n",
    "                     {\"label\": \"2015\", \"value\": 2015},\n",
    "                     {\"label\": \"2016\", \"value\": 2016},\n",
    "                     {\"label\": \"2017\", \"value\": 2017},\n",
    "                     {\"label\": \"2018\", \"value\": 2018}],\n",
    "                 multi=False,\n",
    "                 value=2015,\n",
    "                 style={'width': \"60%\"}\n",
    "                 ),\n",
    "\n",
    "    html.Div(id='output_container', children=[]),\n",
    "    \n",
    "    html.Br(),\n",
    "\n",
    "    dcc.Graph(id='my_bee_map', figure={})\n",
    "\n",
    "])\n",
    "\n",
    "\n",
    "\n",
    "# ------------------------------------------------------------------------------\n",
    "# Connect the Plotly graphs with Dash Components\n",
    "@app.callback(\n",
    "    [Output(component_id='output_container', component_property='children'),\n",
    "     Output(component_id='my_bee_map', component_property='figure')],\n",
    "    [Input(component_id='slct_year', component_property='value')]\n",
    ")\n",
    "def update_graph(option_slctd):\n",
    "    print(option_slctd)\n",
    "    print(type(option_slctd))\n",
    "\n",
    "    container = \"The year chosen by user was: {}\".format(option_slctd)\n",
    "\n",
    "    dff = df.copy()\n",
    "    dff = dff[dff[\"Year\"] == option_slctd]\n",
    "    dff = dff[dff[\"Affected by\"] == \"Varroa_mites\"]\n",
    "\n",
    "    # Plotly Express\n",
    "    fig = px.choropleth(\n",
    "        data_frame=dff,\n",
    "        locationmode='USA-states',\n",
    "        locations='state_code',\n",
    "        scope=\"usa\",\n",
    "        color='Pct of Colonies Impacted',\n",
    "        hover_data=['State', 'Pct of Colonies Impacted'],\n",
    "        color_continuous_scale=px.colors.sequential.YlOrRd,\n",
    "        labels={'Pct of Colonies Impacted': '% of Bee Colonies'},\n",
    "        template='plotly_dark'\n",
    "    )\n",
    "\n",
    "    # Plotly Graph Objects (GO)\n",
    "    fig = go.Figure(\n",
    "        data=[go.Choropleth(\n",
    "        locationmode='USA-states',\n",
    "        locations=dff['state_code'],\n",
    "        z=dff[\"Pct of Colonies Impacted\"].astype(float),\n",
    "            colorscale='Reds',\n",
    "            )]\n",
    "        )\n",
    "    \n",
    "    fig.update_layout(\n",
    "        title_text=\"Bees Affected by Mites in the USA\",\n",
    "        title_xanchor=\"center\",\n",
    "        title_font=dict(size=24),\n",
    "        title_x=0.5,\n",
    "        geo=dict(scope='usa'),\n",
    "    )\n",
    "\n",
    "    return container, fig\n",
    "\n",
    "\n",
    "# ------------------------------------------------------------------------------\n",
    "if __name__ == '__main__':\n",
    "    app.run_server(debug=True)"
   ]
  }
 ],
 "metadata": {
  "kernelspec": {
   "display_name": "Python 3 (ipykernel)",
   "language": "python",
   "name": "python3"
  },
  "language_info": {
   "codemirror_mode": {
    "name": "ipython",
    "version": 3
   },
   "file_extension": ".py",
   "mimetype": "text/x-python",
   "name": "python",
   "nbconvert_exporter": "python",
   "pygments_lexer": "ipython3",
   "version": "3.12.4"
  }
 },
 "nbformat": 4,
 "nbformat_minor": 5
}
